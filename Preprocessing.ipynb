{
 "cells": [
  {
   "cell_type": "code",
   "execution_count": 1,
   "metadata": {},
   "outputs": [],
   "source": [
    "from scipy.integrate import *\n",
    "import pandas as pd\n",
    "import numpy as np\n",
    "from lmfit import minimize, Parameters, Parameter, report_fit"
   ]
  },
  {
   "cell_type": "code",
   "execution_count": 2,
   "metadata": {},
   "outputs": [],
   "source": [
    "#California population obtained from google\n",
    "Population = 39,538,223"
   ]
  },
  {
   "cell_type": "code",
   "execution_count": 3,
   "metadata": {},
   "outputs": [],
   "source": [
    "df = pd.read_csv('covid19casesdemographics.csv')"
   ]
  },
  {
   "cell_type": "code",
   "execution_count": 4,
   "metadata": {},
   "outputs": [],
   "source": [
    "age_df = df[df['demographic_category']== 'Age Group']"
   ]
  },
  {
   "cell_type": "code",
   "execution_count": 5,
   "metadata": {},
   "outputs": [
    {
     "data": {
      "text/plain": [
       "array(['0-17', '18-49', '50-64', '65+', 'Missing', 'Total', 'missing'],\n",
       "      dtype=object)"
      ]
     },
     "execution_count": 5,
     "metadata": {},
     "output_type": "execute_result"
    }
   ],
   "source": [
    "age_df['demographic_value'].unique()"
   ]
  },
  {
   "cell_type": "code",
   "execution_count": 6,
   "metadata": {},
   "outputs": [],
   "source": [
    "age_df = age_df[age_df.demographic_value.isin(['0-17', '18-49', '50-64', '65+'])]"
   ]
  },
  {
   "cell_type": "code",
   "execution_count": 7,
   "metadata": {},
   "outputs": [],
   "source": [
    "#California population obtained from google\n",
    "Population = 39538223\n",
    "Days = len(age_df['report_date'].unique())"
   ]
  },
  {
   "cell_type": "code",
   "execution_count": 8,
   "metadata": {},
   "outputs": [],
   "source": [
    "#obtain I data\n",
    "\n",
    "ages = ['0-17', '18-49', '50-64', '65+']\n",
    "\n",
    "I = dict()\n",
    "for i in ages:\n",
    "    age_group = age_df[age_df['demographic_value'] == i]\n",
    "    Ii = []\n",
    "    \n",
    "    #first day\n",
    "    Ii.append(age_group['total_cases'].iloc[0])\n",
    "    \n",
    "    #for first day 1-7, do average of its neighbors\n",
    "    for k in range(1, 7):\n",
    "        Ii.append(np.mean(age_group['total_cases'].iloc[k-1:k+1]))\n",
    "    \n",
    "    #moving average of windows of t = 15\n",
    "    for k in range(7, len(age_group['total_cases'])-7):\n",
    "        Ii.append(np.mean(age_group['total_cases'].iloc[k-7:k+7]))\n",
    "    \n",
    "    #for last -7 to -1 days do average of its neighbors\n",
    "    for k in range(len(age_group['total_cases'])-7, len(age_group['total_cases'])-1):\n",
    "        Ii.append(np.mean(age_group['total_cases'].iloc[k-1:k+1]))\n",
    "    #for last day, just append the value\n",
    "    Ii.append(age_group['total_cases'].iloc[Days-1])\n",
    "    I[i] = Ii\n"
   ]
  },
  {
   "cell_type": "code",
   "execution_count": 9,
   "metadata": {},
   "outputs": [],
   "source": [
    "#Obtain Recovered Data\n",
    "Recovery_days = 14\n",
    "\n",
    "R = dict()\n",
    "for i in ages:\n",
    "    age_group = age_df[age_df['demographic_value'] == i]\n",
    "    Ri = []\n",
    "    for k in range(0, Recovery_days):\n",
    "        Ri.append(0)\n",
    "    \n",
    "    for k in range(14, Days):\n",
    "        Ri.append(age_group['total_cases'].iloc[k-14])\n",
    "    R[i] = Ri\n",
    "    "
   ]
  },
  {
   "cell_type": "code",
   "execution_count": 10,
   "metadata": {},
   "outputs": [],
   "source": [
    "#obtain Death data\n",
    "\n",
    "ages = ['0-17', '18-49', '50-64', '65+']\n",
    "\n",
    "D = dict()\n",
    "for i in ages:\n",
    "    age_group = age_df[age_df['demographic_value'] == i]\n",
    "    Di = []\n",
    "    \n",
    "    #first day\n",
    "    Di.append(age_group['deaths'].iloc[0])\n",
    "    \n",
    "    #for first day 1-7, do average of its neighbors\n",
    "    for k in range(1, 7):\n",
    "        Di.append(np.mean(age_group['deaths'].iloc[k-1:k+1]))\n",
    "    \n",
    "    #moving average of windows of t = 15\n",
    "    for k in range(7, len(age_group['deaths'])-7):\n",
    "        Di.append(np.mean(age_group['deaths'].iloc[k-7:k+7]))\n",
    "    \n",
    "    #for last -7 to -1 days do average of its neighbors\n",
    "    for k in range(len(age_group['deaths'])-7, len(age_group['deaths'])-1):\n",
    "        Di.append(np.mean(age_group['deaths'].iloc[k-1:k+1]))\n",
    "    #for last day, just append the value\n",
    "    Di.append(age_group['deaths'].iloc[Days-1])\n",
    "    D[i] = Di\n"
   ]
  },
  {
   "cell_type": "code",
   "execution_count": 11,
   "metadata": {},
   "outputs": [],
   "source": [
    "#obtain Susceptible data\n",
    "percentages = age_df['percent_of_ca_population'].unique()\n",
    "age_pop = dict(zip(ages, percentages))\n",
    "\n",
    "S = dict()\n",
    "for age in ages:\n",
    "    Si = []\n",
    "    for i, j, k in zip(I[age], R[age], D[age]):\n",
    "        Si.append(age_pop[age]*Population/100-i-j-k)\n",
    "    S[age] = Si"
   ]
  },
  {
   "cell_type": "code",
   "execution_count": null,
   "metadata": {},
   "outputs": [],
   "source": []
  }
 ],
 "metadata": {
  "kernelspec": {
   "display_name": "Python 3",
   "language": "python",
   "name": "python3"
  },
  "language_info": {
   "codemirror_mode": {
    "name": "ipython",
    "version": 3
   },
   "file_extension": ".py",
   "mimetype": "text/x-python",
   "name": "python",
   "nbconvert_exporter": "python",
   "pygments_lexer": "ipython3",
   "version": "3.8.5"
  }
 },
 "nbformat": 4,
 "nbformat_minor": 4
}
